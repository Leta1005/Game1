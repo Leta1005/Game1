{
 "cells": [
  {
   "cell_type": "code",
   "execution_count": 15,
   "metadata": {},
   "outputs": [
    {
     "name": "stdout",
     "output_type": "stream",
     "text": [
      "Количество попыток: 79\n",
      "Ваш алгоритм угадывает число в среднем за: 101 попыток\n"
     ]
    }
   ],
   "source": [
    "import numpy as np\n",
    "\n",
    "def random_predict(number:int=1) -> int:\n",
    "    \"\"\"Функция угадывает число\n",
    "\n",
    "    Args:\n",
    "        number (int, optional): загаданное число. Defaults to 1.\n",
    "\n",
    "    Returns:\n",
    "        int: число попыток\n",
    "    \"\"\"\n",
    "    count = 0\n",
    "    while True:\n",
    "        count += 1\n",
    "        predict_number = np.random.randint(1, 101) # предполагаемое число\n",
    "        if number == predict_number:\n",
    "            break # выход из цикла, если угадали\n",
    "    return(count)\n",
    "\n",
    "print(f'Количество попыток: {random_predict()}')\n",
    "\n",
    "def score_game(random_predict) -> int:\n",
    "    \"\"\"_summary_\n",
    "\n",
    "    Args:\n",
    "        random_predict (_type_): функция угадывает\n",
    "\n",
    "    Returns:\n",
    "        int: среднее количество попыток\n",
    "    \"\"\"\n",
    "    count_ls = [] # список для сохранения количества попыток\n",
    "    np.random.seed(1) # фиксируем сид для воспроизводимости\n",
    "    random_array = np.random.randint(1, 101, size=(1000)) # загадали список чисел\n",
    "\n",
    "    for number in random_array:\n",
    "        count_ls.append(random_predict(number))\n",
    "\n",
    "    score = int(np.mean(count_ls)) # находим среднее количество попыток\n",
    "\n",
    "    print(f'Ваш алгоритм угадывает число в среднем за: {score} попыток')\n",
    "    return(score)\n",
    "\n",
    "# RUN\n",
    "if __name__ == '__main__':\n",
    "    score_game(random_predict)"
   ]
  },
  {
   "cell_type": "code",
   "execution_count": 16,
   "metadata": {},
   "outputs": [],
   "source": [
    "n = 10\n",
    "z = n\n",
    "n = 5"
   ]
  },
  {
   "cell_type": "markdown",
   "metadata": {},
   "source": [
    "# Игра угадай \n"
   ]
  },
  {
   "cell_type": "markdown",
   "metadata": {},
   "source": [
    "## Угадываем рандомно:"
   ]
  }
 ],
 "metadata": {
  "kernelspec": {
   "display_name": "Python 3",
   "language": "python",
   "name": "python3"
  },
  "language_info": {
   "codemirror_mode": {
    "name": "ipython",
    "version": 3
   },
   "file_extension": ".py",
   "mimetype": "text/x-python",
   "name": "python",
   "nbconvert_exporter": "python",
   "pygments_lexer": "ipython3",
   "version": "3.9.10"
  }
 },
 "nbformat": 4,
 "nbformat_minor": 2
}
